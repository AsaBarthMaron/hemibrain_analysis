{
  "nbformat": 4,
  "nbformat_minor": 0,
  "metadata": {
    "colab": {
      "name": "2020-05-28_extrinsic_LN_connectivity.ipynb",
      "provenance": [],
      "collapsed_sections": [],
      "authorship_tag": "ABX9TyNVbwE7Lw3Dr5UV5pKqAiGD"
    },
    "kernelspec": {
      "name": "python3",
      "display_name": "Python 3"
    }
  },
  "cells": [
    {
      "cell_type": "code",
      "metadata": {
        "id": "2HuQAQaf0qzy",
        "colab_type": "code",
        "colab": {}
      },
      "source": [
        "# Install dependency, neuprint-python\n",
        "!pip install neuprint-python"
      ],
      "execution_count": 0,
      "outputs": []
    },
    {
      "cell_type": "code",
      "metadata": {
        "id": "1Yp71LJUxfzZ",
        "colab_type": "code",
        "colab": {}
      },
      "source": [
        "import matplotlib.pyplot as plt\n",
        "import neuprint\n",
        "import numpy as np\n",
        "import pandas as pd"
      ],
      "execution_count": 0,
      "outputs": []
    },
    {
      "cell_type": "code",
      "metadata": {
        "id": "h1GodIwUqZ9v",
        "colab_type": "code",
        "colab": {}
      },
      "source": [
        "# Connect to google drive, google sheets\n",
        "from google.colab import auth\n",
        "auth.authenticate_user()\n",
        "import gspread\n",
        "from oauth2client.client import GoogleCredentials\n",
        "gc = gspread.authorize(GoogleCredentials.get_application_default())"
      ],
      "execution_count": 0,
      "outputs": []
    },
    {
      "cell_type": "code",
      "metadata": {
        "id": "vJZVsGiNw90L",
        "colab_type": "code",
        "colab": {}
      },
      "source": [
        "# Load workbook from google sheets\n",
        "wb = gc.open_by_url('https://docs.google.com/spreadsheets/d/1jqbNL18jvMspH0GO_7q-X7Euqsi_1eAtLoac2PZc6PY/edit#gid=0')\n",
        "ln_sheet = wb.worksheet('LNs')\n",
        "LNs = ln_sheet.get_all_values()\n",
        "LNs = pd.DataFrame(LNs)\n",
        "LNs.columns = LNs.iloc[0]\n",
        "LNs = LNs.iloc[1:]"
      ],
      "execution_count": 0,
      "outputs": []
    },
    {
      "cell_type": "code",
      "metadata": {
        "id": "h-DTe4oRud60",
        "colab_type": "code",
        "colab": {}
      },
      "source": [
        "# Establish connection to neuprint\n"
      ],
      "execution_count": 0,
      "outputs": []
    }
  ]
}